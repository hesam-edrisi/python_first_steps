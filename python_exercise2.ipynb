{
 "cells": [
  {
   "cell_type": "code",
   "execution_count": 19,
   "id": "80ae02d8",
   "metadata": {},
   "outputs": [],
   "source": [
    "# Dictionary Exercises"
   ]
  },
  {
   "cell_type": "code",
   "execution_count": 13,
   "id": "f5c349e7",
   "metadata": {},
   "outputs": [
    {
     "name": "stdout",
     "output_type": "stream",
     "text": [
      "The list of values is : ['Mohammad', '4000']\n"
     ]
    }
   ],
   "source": [
    "# Task 1:\n",
    "# Extract values from a dictionary that their keys are present in a given list\n",
    "dict_ex = {\"name\": \"Mohammad\",\n",
    "           \"age\" : \"40\",\n",
    "           \"job\" : \"teacher\",\n",
    "           \"salary\": \"4000\",\n",
    "          }\n",
    "valid_keys = [\"name\", \"salary\"]\n",
    "\n",
    "result = []\n",
    "for key in dict_ex.keys():\n",
    "    if key in valid_keys:  \n",
    "        result.append(dict_ex[key])\n",
    "    \n",
    "  \n",
    "# printing result\n",
    "print(\"The list of values is : \" +  str(result))\n",
    "\n"
   ]
  },
  {
   "cell_type": "code",
   "execution_count": 3,
   "id": "28fd17da",
   "metadata": {},
   "outputs": [
    {
     "name": "stdout",
     "output_type": "stream",
     "text": [
      "{'name_0': 'sara', 'age_0': 28, 'salary_0': 2000, 'name_1': 'Sara', 'age_1': 18, 'salary_1': 1000, 'a': 'A', 'name_2': 'Omid', 'age_2': 20, 'salary_2': 1000, 'name_3': 'Amir', 'age_3': 28, 'salary_3': 2000, 'last_name': 'mohammadi'}\n"
     ]
    }
   ],
   "source": [
    "# task 2\n",
    "student_da = {'id1': {'name': 'sara', 'age': 28, 'salary': 2000 },\n",
    "           'id2': {'name': 'Sara', 'age': 18, 'salary': 1000 },\n",
    "           \"a\": \"A\", 'id3': {'name': 'Omid', \"age\": 20, 'salary': 1000 },\n",
    "           'id4': dict(name=\"Amir\", age=28, salary=2000), \"last_name\": \"mohammadi\", }\n",
    "new_records = {}\n",
    "n = 0\n",
    "\n",
    "for item in student_da:\n",
    "    if isinstance(student_da[item],dict):\n",
    "        new_records[f\"name_{n}\"] = student_da[item][\"name\"]\n",
    "        new_records[f\"age_{n}\"] = student_da[item][\"age\"]\n",
    "        new_records[f\"salary_{n}\"] = student_da[item][\"salary\"]\n",
    "        n += 1\n",
    "    else:\n",
    "        new_records.update({item: student_da[item]})\n",
    "\n",
    "print(new_records)"
   ]
  },
  {
   "cell_type": "code",
   "execution_count": 22,
   "id": "eb1d8a79",
   "metadata": {},
   "outputs": [
    {
     "ename": "TypeError",
     "evalue": "unhashable type: 'dict_keys'",
     "output_type": "error",
     "traceback": [
      "\u001b[1;31m---------------------------------------------------------------------------\u001b[0m",
      "\u001b[1;31mTypeError\u001b[0m                                 Traceback (most recent call last)",
      "Input \u001b[1;32mIn [22]\u001b[0m, in \u001b[0;36m<cell line: 7>\u001b[1;34m()\u001b[0m\n\u001b[0;32m      5\u001b[0m nvv \u001b[38;5;241m=\u001b[39m [\u001b[38;5;124m\"\u001b[39m\u001b[38;5;124m \u001b[39m\u001b[38;5;124m\"\u001b[39m, \u001b[38;5;28;01mNone\u001b[39;00m]\n\u001b[0;32m      7\u001b[0m \u001b[38;5;28;01mfor\u001b[39;00m key \u001b[38;5;129;01min\u001b[39;00m dict_\u001b[38;5;241m.\u001b[39mkeys():\n\u001b[1;32m----> 8\u001b[0m     \u001b[38;5;28;01mif\u001b[39;00m \u001b[43mdict_\u001b[49m\u001b[43m[\u001b[49m\u001b[43mdict_\u001b[49m\u001b[38;5;241;43m.\u001b[39;49m\u001b[43mkeys\u001b[49m\u001b[43m(\u001b[49m\u001b[43m)\u001b[49m\u001b[43m]\u001b[49m \u001b[38;5;129;01mnot\u001b[39;00m \u001b[38;5;129;01min\u001b[39;00m nvv: \n\u001b[0;32m      9\u001b[0m         \u001b[38;5;28;01mdel\u001b[39;00m dict_[dict_\u001b[38;5;241m.\u001b[39mkeys()]\n\u001b[0;32m     11\u001b[0m \u001b[38;5;28mprint\u001b[39m(\u001b[38;5;124m\"\u001b[39m\u001b[38;5;124mThe list of values is : \u001b[39m\u001b[38;5;124m\"\u001b[39m \u001b[38;5;241m+\u001b[39m  \u001b[38;5;28mstr\u001b[39m(dict_))\n",
      "\u001b[1;31mTypeError\u001b[0m: unhashable type: 'dict_keys'"
     ]
    }
   ],
   "source": [
    "#Task 3\n",
    "#Write a Python program to drop items with None or empty values from a given dictionary\n",
    "dict_ = {\"a\": \"A\", \"b\": \"B\", \"c\": None, \"d\": \" \"}\n",
    "# nvv = not valid values\n",
    "nvv = [\" \", None]\n",
    "\n",
    "for key in dict_.keys():\n",
    "    if dict_[dict_.keys()] in nvv: \n",
    "        del dict_[dict_.keys()]\n",
    "    else:    \n",
    "                                    \n",
    "print(\"The list of values is : \" +  str(dict_)) \n",
    "        \n",
    "        \n",
    "# output: {\"a\": \"A\", \"b\": \"B\"}"
   ]
  },
  {
   "cell_type": "code",
   "execution_count": 21,
   "id": "016266b5",
   "metadata": {},
   "outputs": [
    {
     "name": "stdout",
     "output_type": "stream",
     "text": [
      "[('a', 'a'), ('ali', 'ali'), ('b', 'b')]\n"
     ]
    }
   ],
   "source": [
    "#Task 4\n",
    "#Create a dictionary two given lists using `zip`\n",
    "lst_1 = [\"a\", \"ali\", \"b\"]\n",
    "lst_2 = [\"a\", \"ali\", \"b\"]\n",
    "lis_3 = zip(lst_1, lst_2)\n",
    "print(list(lis_3))\n"
   ]
  },
  {
   "cell_type": "code",
   "execution_count": null,
   "id": "3d7230a9",
   "metadata": {},
   "outputs": [],
   "source": []
  }
 ],
 "metadata": {
  "kernelspec": {
   "display_name": "Python 3 (ipykernel)",
   "language": "python",
   "name": "python3"
  },
  "language_info": {
   "codemirror_mode": {
    "name": "ipython",
    "version": 3
   },
   "file_extension": ".py",
   "mimetype": "text/x-python",
   "name": "python",
   "nbconvert_exporter": "python",
   "pygments_lexer": "ipython3",
   "version": "3.9.12"
  }
 },
 "nbformat": 4,
 "nbformat_minor": 5
}
