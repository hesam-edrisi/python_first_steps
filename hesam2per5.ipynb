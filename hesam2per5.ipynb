{
 "cells": [
  {
   "cell_type": "code",
   "execution_count": 1,
   "id": "bf764d85",
   "metadata": {},
   "outputs": [
    {
     "name": "stdout",
     "output_type": "stream",
     "text": [
      "m\n",
      "a\n",
      "s\n",
      "e\n",
      "h\n"
     ]
    }
   ],
   "source": [
    "#print your name backward\n",
    "var = 'hesam' \n",
    "for ch in var[::-1]:\n",
    "    print(ch)\n"
   ]
  },
  {
   "cell_type": "code",
   "execution_count": 4,
   "id": "69c12760",
   "metadata": {},
   "outputs": [
    {
     "ename": "SyntaxError",
     "evalue": "invalid syntax (2338247528.py, line 3)",
     "output_type": "error",
     "traceback": [
      "\u001b[1;36m  Input \u001b[1;32mIn [4]\u001b[1;36m\u001b[0m\n\u001b[1;33m    for i in range(0:4):\u001b[0m\n\u001b[1;37m                    ^\u001b[0m\n\u001b[1;31mSyntaxError\u001b[0m\u001b[1;31m:\u001b[0m invalid syntax\n"
     ]
    }
   ],
   "source": [
    "# print your name backward with range # use range\n",
    "var = \"hesam\"\n",
    "for i in range(0:4):\n",
    "    \n",
    "    print(VAR)\n"
   ]
  },
  {
   "cell_type": "code",
   "execution_count": 48,
   "id": "288417de",
   "metadata": {},
   "outputs": [
    {
     "name": "stdout",
     "output_type": "stream",
     "text": [
      "['pooya', 'menoo', 'golsa']\n",
      "['pooya', 'menoo', 'golsa']\n",
      "['pooya', 'menoo', 'golsa']\n"
     ]
    }
   ],
   "source": [
    "# print lst len(lst) time\n",
    "lst= [\"pooya\",\"menoo\",\"golsa\"]\n",
    "mo= len(lst)\n",
    "while mo>0:\n",
    "    print(lst)\n",
    "    mo= mo -1"
   ]
  },
  {
   "cell_type": "code",
   "execution_count": 55,
   "id": "42954847",
   "metadata": {},
   "outputs": [
    {
     "name": "stdout",
     "output_type": "stream",
     "text": [
      "['pooya', 'menoo', 'golsa']\n",
      "['pooya', 'menoo', 'golsa']\n",
      "['pooya', 'menoo', 'golsa']\n"
     ]
    }
   ],
   "source": [
    "# print lst len(lst) time\n",
    "lst= [\"pooya\",\"menoo\",\"golsa\"]\n",
    "for i in lst:\n",
    "    print (lst)"
   ]
  },
  {
   "cell_type": "code",
   "execution_count": 59,
   "id": "a8072ff2",
   "metadata": {},
   "outputs": [
    {
     "name": "stdout",
     "output_type": "stream",
     "text": [
      "[6, 8, 10, 12]\n"
     ]
    }
   ],
   "source": [
    "# sum of this two given list\n",
    "lst1= [1,2,3,4]\n",
    "lst2= [5,6,7,8,]\n",
    "lst3= []\n",
    "n = 0\n",
    "for i in (lst1):\n",
    "    lst3.append(i+lst2[n])\n",
    "    n+=1\n",
    "print(lst3)\n",
    "\n"
   ]
  },
  {
   "cell_type": "code",
   "execution_count": null,
   "id": "3e0c5e70",
   "metadata": {},
   "outputs": [],
   "source": []
  },
  {
   "cell_type": "code",
   "execution_count": null,
   "id": "a02437ef",
   "metadata": {},
   "outputs": [],
   "source": []
  },
  {
   "cell_type": "code",
   "execution_count": null,
   "id": "398ddbd7",
   "metadata": {},
   "outputs": [],
   "source": []
  }
 ],
 "metadata": {
  "kernelspec": {
   "display_name": "Python 3 (ipykernel)",
   "language": "python",
   "name": "python3"
  },
  "language_info": {
   "codemirror_mode": {
    "name": "ipython",
    "version": 3
   },
   "file_extension": ".py",
   "mimetype": "text/x-python",
   "name": "python",
   "nbconvert_exporter": "python",
   "pygments_lexer": "ipython3",
   "version": "3.9.12"
  }
 },
 "nbformat": 4,
 "nbformat_minor": 5
}
