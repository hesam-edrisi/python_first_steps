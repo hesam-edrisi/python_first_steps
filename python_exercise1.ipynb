{
 "cells": [
  {
   "cell_type": "code",
   "execution_count": 9,
   "id": "aead96e8",
   "metadata": {},
   "outputs": [
    {
     "name": "stdout",
     "output_type": "stream",
     "text": [
      "11\n",
      "10\n",
      "0\n"
     ]
    }
   ],
   "source": [
    "# TASK 1\n",
    "## taking out integers from a list##\n",
    "\n",
    "lst = ['11','pooya','10','10.5','32k232','0']\n",
    "numbers= '0123456789'\n",
    "for item in lst:\n",
    "    i = True\n",
    "    for x in item:\n",
    "        if x not in numbers:\n",
    "            i = False\n",
    "            break\n",
    "    if i:\n",
    "        print(item)\n",
    "        "
   ]
  },
  {
   "cell_type": "code",
   "execution_count": 19,
   "id": "77f1aa2f",
   "metadata": {},
   "outputs": [
    {
     "name": "stdout",
     "output_type": "stream",
     "text": [
      "insert first num 10\n",
      "insert second num 48\n",
      "20\n"
     ]
    }
   ],
   "source": [
    "#TASK 2\n",
    "##sum of two given integers\n",
    "##if the sum whitin the range of 15 to 20 it returns 20 otherwise is returns sum.\n",
    "\n",
    "first_int = int(input('insert first num '))\n",
    "second_int = int(input('insert second num '))                \n",
    "sum = first_int + second_int\n",
    "if 14<sum>21:\n",
    "    print ('20')\n",
    "else:\n",
    "    print(sum)\n"
   ]
  },
  {
   "cell_type": "code",
   "execution_count": 20,
   "id": "ad2e0513",
   "metadata": {},
   "outputs": [
    {
     "name": "stdout",
     "output_type": "stream",
     "text": [
      "22\n",
      "54\n",
      "6\n",
      "74\n",
      "64\n"
     ]
    }
   ],
   "source": [
    "#TASK 3\n",
    "# find even elements\n",
    "# find remainder 0 first\n",
    "listt= [22,54,6,9,3,74,17,11,64,19]\n",
    "for num in listt:\n",
    "    if num % 2 == 0:\n",
    "        print(num)\n"
   ]
  },
  {
   "cell_type": "code",
   "execution_count": 93,
   "id": "0d24b554",
   "metadata": {},
   "outputs": [
    {
     "name": "stdout",
     "output_type": "stream",
     "text": [
      "2 >>> 3\n",
      "3 >>> 1\n",
      "5 >>> 1\n",
      "11 >>> 1\n",
      "7 >>> 1\n",
      "s >>> 2\n",
      "pooya >>> 2\n"
     ]
    }
   ],
   "source": [
    "# TASK 4\n",
    "#Initialize list     \n",
    "\n",
    "list1 = [\"2\", \"3\", \"5\", \"2\", \"11\", \"2\", \"7\",\"s\" ,\"S\",\"pooya\",\"POOya\"]\n",
    "for i in range(len(list1)):\n",
    "    list1[i]=list1[i].lower()\n",
    "mylist=[]\n",
    "for x in (list1):\n",
    "    if x not in mylist:\n",
    "        mylist.append(x)\n",
    "for x in (mylist):\n",
    "    a=0\n",
    "    for i in (list1):\n",
    "        if i==x:\n",
    "            a=a+1\n",
    "    print(x,'>>>',a)\n"
   ]
  },
  {
   "cell_type": "code",
   "execution_count": 12,
   "id": "a1e622cd",
   "metadata": {},
   "outputs": [
    {
     "name": "stdout",
     "output_type": "stream",
     "text": [
      "do you wanna play or not? y/n   n\n",
      "have a good day \n"
     ]
    }
   ],
   "source": [
    "#task 5\n",
    "#TWO PLAYER ROCK PAPER SCISSORS GAME\n",
    "\n",
    "while True:\n",
    "    option = input(\"do you wanna play or not? y/n:   \")\n",
    "    if option == \"n\":\n",
    "        print(\"have a good day \")\n",
    "        break              \n",
    "    x=input(\"Rock, Paper, Scissors?  \")\n",
    "    y=input(\"Rock, Paper, Scissors?  \")\n",
    "# conditions\n",
    "    if x==y:\n",
    "      print(\"it's a tie\")\n",
    "    elif x== \"rock\" and y==\"scissors\":\n",
    "      print(\"user1 wins\")\n",
    "    elif x== \"paper\" and y==\"rock\":\n",
    "      print(\"user1 wins\")\n",
    "    elif x== \"scissors\" and y==\"paper\":\n",
    "     print(\"user1 win\")\n",
    "    else:\n",
    "      print(\"user2 wins\")\n",
    "\n",
    "    \n",
    "        \n"
   ]
  },
  {
   "cell_type": "code",
   "execution_count": 81,
   "id": "9bdfe507",
   "metadata": {},
   "outputs": [
    {
     "name": "stdout",
     "output_type": "stream",
     "text": [
      "how many fibos you want ?   5\n",
      "Fibonacci Series:\n",
      "0\n",
      "1\n",
      "1\n",
      "2\n",
      "3\n"
     ]
    }
   ],
   "source": [
    "#task 6\n",
    "#ASK THE USER HOW MANY fibonatchi generate\n",
    "\n",
    "num = int(input(\"how many fibos you want ?   \"))\n",
    "if num == 1:\n",
    "    print(\"0\")\n",
    "elif num == 2:\n",
    "    print(\"0,1\")\n",
    "else:\n",
    "    n1, n2 = 0, 1\n",
    "    print(\"Fibonacci Series:\")\n",
    "    print(0)\n",
    "    print(1)\n",
    "\n",
    "\n",
    "    for i in range(2, num):\n",
    "        n3 = n1 + n2\n",
    "        n1 = n2\n",
    "        n2 = n3\n",
    "        print(n3)"
   ]
  },
  {
   "cell_type": "code",
   "execution_count": 94,
   "id": "1f9de02c",
   "metadata": {},
   "outputs": [
    {
     "name": "stdout",
     "output_type": "stream",
     "text": [
      "Enter password: P@$sW0rd\n",
      "welcome!\n"
     ]
    }
   ],
   "source": [
    "#tassk 7 \"P@$sW0rd\" \n",
    "# password check for 3 times and if it was wrong more, block!\n",
    "\n",
    "count=0\n",
    "while count < 3:\n",
    "    password = input(\"Enter password: \")\n",
    "    if password==\"P@$sW0rd\":\n",
    "        print(\"welcome!\")\n",
    "        break\n",
    "    else:\n",
    "        print('wrong! Try again.')\n",
    "        count += 1\n",
    "        if count ==3:\n",
    "            print(\"sorry, try another time\")"
   ]
  },
  {
   "cell_type": "code",
   "execution_count": null,
   "id": "7fa1ff04",
   "metadata": {},
   "outputs": [],
   "source": []
  },
  {
   "cell_type": "code",
   "execution_count": null,
   "id": "a2ee1bc1",
   "metadata": {},
   "outputs": [],
   "source": []
  }
 ],
 "metadata": {
  "kernelspec": {
   "display_name": "Python 3 (ipykernel)",
   "language": "python",
   "name": "python3"
  },
  "language_info": {
   "codemirror_mode": {
    "name": "ipython",
    "version": 3
   },
   "file_extension": ".py",
   "mimetype": "text/x-python",
   "name": "python",
   "nbconvert_exporter": "python",
   "pygments_lexer": "ipython3",
   "version": "3.9.12"
  }
 },
 "nbformat": 4,
 "nbformat_minor": 5
}
